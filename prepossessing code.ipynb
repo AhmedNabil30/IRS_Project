{
  "nbformat": 4,
  "nbformat_minor": 0,
  "metadata": {
    "colab": {
      "provenance": []
    },
    "kernelspec": {
      "name": "python3",
      "display_name": "Python 3"
    },
    "language_info": {
      "name": "python"
    }
  },
  "cells": [
    {
      "cell_type": "code",
      "source": [
        "import os\n",
        "import datetime\n",
        "\n",
        "def main():\n",
        "    directory_name = \"C:/cabspottingdata/cabspottingdata\"\n",
        "    file_input = \"C:/cabspottingdata/preprocessing\"\n",
        "    count = 0\n",
        "\n",
        "    try:\n",
        "        with open(file_input, 'w') as printer:\n",
        "            for filename in os.listdir(directory_name):\n",
        "                file_path = os.path.join(directory_name, filename)\n",
        "                if os.path.isfile(file_path):\n",
        "                    with open(file_path, 'r') as file:\n",
        "                        c = 0\n",
        "                        sum_ = 0\n",
        "                        max_ = 0\n",
        "                        min_ = float('inf')\n",
        "\n",
        "                        for line in file:\n",
        "                            st = line.split(\" \")\n",
        "                            if c == 0:\n",
        "                                min_ = int(st[3])\n",
        "                            c += 1\n",
        "                            sum_ += int(st[2])\n",
        "                            value = int(st[3])\n",
        "                            max_ = max(max_, value)\n",
        "                            min_ = min(min_, value)\n",
        "\n",
        "                        diff = max_ - min_\n",
        "                        hrs = diff / 3600\n",
        "                        occ_rate = sum_ / c\n",
        "\n",
        "                        if occ_rate >= 0.5 and hrs >= 500:\n",
        "                            result = f\"{file_path} occupancy rate {occ_rate} No. of hrs travelled {hrs}\"\n",
        "                            print(result)\n",
        "                            printer.write(result + \"\\n\")\n",
        "                            count += 1\n",
        "\n",
        "        print(count)\n",
        "\n",
        "    except Exception as e:\n",
        "        print(f\"Error during processing: {e}\")\n",
        "\n",
        "    try:\n",
        "        with open(file_input, 'r') as input_file:\n",
        "            file_input1 = \"C:/cabspottingdata/preprocessing1.txt\"\n",
        "            c = 0\n",
        "\n",
        "            with open(file_input1, 'w') as printer1:\n",
        "                for line in input_file:\n",
        "                    st = line.split(\" \")\n",
        "                    file_name = st[0]\n",
        "                    print(f\"{file_name} \")\n",
        "                    file_path = file_name\n",
        "\n",
        "                    try:\n",
        "                        with open(file_path, 'r') as file:\n",
        "                            for l in file:\n",
        "                                s = l.split(\" \")\n",
        "                                timestamp = int(s[3])\n",
        "                                date = datetime.datetime.utcfromtimestamp(timestamp)\n",
        "                                java_date = date.strftime('%Y-%m-%d %H:%M:%S')\n",
        "                                d = java_date.split(\" \")\n",
        "                                time = d[1].split(\":\")\n",
        "\n",
        "                                if (time[0] == \"14\" or (time[0] == \"15\" and time[1] == \"00\" and time[2] == \"00\")):\n",
        "                                    printer1.write(file_name + \" \" + l + \"\\n\")\n",
        "                                    c += 1\n",
        "                    except FileNotFoundError:\n",
        "                        print(f\"File {file_path} not found.\")\n",
        "\n",
        "        print(c)\n",
        "\n",
        "    except Exception as e:\n",
        "        print(f\"Error during second phase processing: {e}\")\n",
        "\n",
        "if _name_ == '_main_':\n",
        "    main()"
      ],
      "metadata": {
        "id": "OjpBK7-Hisf-",
        "colab": {
          "base_uri": "https://localhost:8080/",
          "height": 17
        },
        "outputId": "b4df2efc-f35b-4694-8753-50c379744176"
      },
      "execution_count": 2,
      "outputs": [
        {
          "output_type": "display_data",
          "data": {
            "text/plain": [
              "<IPython.core.display.Javascript object>"
            ],
            "application/javascript": [
              "\n",
              "    async function download(id, filename, size) {\n",
              "      if (!google.colab.kernel.accessAllowed) {\n",
              "        return;\n",
              "      }\n",
              "      const div = document.createElement('div');\n",
              "      const label = document.createElement('label');\n",
              "      label.textContent = `Downloading \"${filename}\": `;\n",
              "      div.appendChild(label);\n",
              "      const progress = document.createElement('progress');\n",
              "      progress.max = size;\n",
              "      div.appendChild(progress);\n",
              "      document.body.appendChild(div);\n",
              "\n",
              "      const buffers = [];\n",
              "      let downloaded = 0;\n",
              "\n",
              "      const channel = await google.colab.kernel.comms.open(id);\n",
              "      // Send a message to notify the kernel that we're ready.\n",
              "      channel.send({})\n",
              "\n",
              "      for await (const message of channel.messages) {\n",
              "        // Send a message to notify the kernel that we're ready.\n",
              "        channel.send({})\n",
              "        if (message.buffers) {\n",
              "          for (const buffer of message.buffers) {\n",
              "            buffers.push(buffer);\n",
              "            downloaded += buffer.byteLength;\n",
              "            progress.value = downloaded;\n",
              "          }\n",
              "        }\n",
              "      }\n",
              "      const blob = new Blob(buffers, {type: 'application/binary'});\n",
              "      const a = document.createElement('a');\n",
              "      a.href = window.URL.createObjectURL(blob);\n",
              "      a.download = filename;\n",
              "      div.appendChild(a);\n",
              "      a.click();\n",
              "      div.remove();\n",
              "    }\n",
              "  "
            ]
          },
          "metadata": {}
        },
        {
          "output_type": "display_data",
          "data": {
            "text/plain": [
              "<IPython.core.display.Javascript object>"
            ],
            "application/javascript": [
              "download(\"download_74cb25a5-4ebd-4882-afe1-859132d987e1\", \"user_location_interaction.csv\", 1230)"
            ]
          },
          "metadata": {}
        },
        {
          "output_type": "display_data",
          "data": {
            "text/plain": [
              "<IPython.core.display.Javascript object>"
            ],
            "application/javascript": [
              "\n",
              "    async function download(id, filename, size) {\n",
              "      if (!google.colab.kernel.accessAllowed) {\n",
              "        return;\n",
              "      }\n",
              "      const div = document.createElement('div');\n",
              "      const label = document.createElement('label');\n",
              "      label.textContent = `Downloading \"${filename}\": `;\n",
              "      div.appendChild(label);\n",
              "      const progress = document.createElement('progress');\n",
              "      progress.max = size;\n",
              "      div.appendChild(progress);\n",
              "      document.body.appendChild(div);\n",
              "\n",
              "      const buffers = [];\n",
              "      let downloaded = 0;\n",
              "\n",
              "      const channel = await google.colab.kernel.comms.open(id);\n",
              "      // Send a message to notify the kernel that we're ready.\n",
              "      channel.send({})\n",
              "\n",
              "      for await (const message of channel.messages) {\n",
              "        // Send a message to notify the kernel that we're ready.\n",
              "        channel.send({})\n",
              "        if (message.buffers) {\n",
              "          for (const buffer of message.buffers) {\n",
              "            buffers.push(buffer);\n",
              "            downloaded += buffer.byteLength;\n",
              "            progress.value = downloaded;\n",
              "          }\n",
              "        }\n",
              "      }\n",
              "      const blob = new Blob(buffers, {type: 'application/binary'});\n",
              "      const a = document.createElement('a');\n",
              "      a.href = window.URL.createObjectURL(blob);\n",
              "      a.download = filename;\n",
              "      div.appendChild(a);\n",
              "      a.click();\n",
              "      div.remove();\n",
              "    }\n",
              "  "
            ]
          },
          "metadata": {}
        },
        {
          "output_type": "display_data",
          "data": {
            "text/plain": [
              "<IPython.core.display.Javascript object>"
            ],
            "application/javascript": [
              "download(\"download_addce4f2-3262-4d4b-a695-8264e460d80c\", \"location_metadata.csv\", 1401)"
            ]
          },
          "metadata": {}
        }
      ]
    }
  ]
}