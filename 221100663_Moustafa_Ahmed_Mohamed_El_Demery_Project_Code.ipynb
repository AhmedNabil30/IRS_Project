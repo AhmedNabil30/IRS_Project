{
  "cells": [
    {
      "cell_type": "markdown",
      "metadata": {
        "id": "9XWQXkN0o9Pq"
      },
      "source": [
        "# Data collection and preprocessing"
      ]
    },
    {
      "cell_type": "code",
      "source": [
        "#Course Project: Candidate Advertisement List Recommendation Engine\n",
        "#221100663, Moustafa Ahmed Mohamed El Demery\n",
        "#A20000763, Mohamed Ayman Mohamed Abdelwahab\n"
      ],
      "metadata": {
        "id": "gXtfsHM_wf9K"
      },
      "execution_count": null,
      "outputs": []
    },
    {
      "cell_type": "code",
      "source": [
        "!pip install scikit-surprise\n",
        "!pip install annoy"
      ],
      "metadata": {
        "colab": {
          "base_uri": "https://localhost:8080/"
        },
        "id": "v1OQi6mjplSB",
        "outputId": "80982f4b-36a1-46a6-b492-def6af5f6e77"
      },
      "execution_count": null,
      "outputs": [
        {
          "output_type": "stream",
          "name": "stdout",
          "text": [
            "Collecting scikit-surprise\n",
            "  Downloading scikit_surprise-1.1.4.tar.gz (154 kB)\n",
            "\u001b[?25l     \u001b[90m━━━━━━━━━━━━━━━━━━━━━━━━━━━━━━━━━━━━━━━━\u001b[0m \u001b[32m0.0/154.4 kB\u001b[0m \u001b[31m?\u001b[0m eta \u001b[36m-:--:--\u001b[0m\r\u001b[2K     \u001b[90m━━━━━━━━━━━━━━━━━━━━━━━━━━━━━━━━━━━━━━━━\u001b[0m \u001b[32m154.4/154.4 kB\u001b[0m \u001b[31m9.5 MB/s\u001b[0m eta \u001b[36m0:00:00\u001b[0m\n",
            "\u001b[?25h  Installing build dependencies ... \u001b[?25l\u001b[?25hdone\n",
            "  Getting requirements to build wheel ... \u001b[?25l\u001b[?25hdone\n",
            "  Preparing metadata (pyproject.toml) ... \u001b[?25l\u001b[?25hdone\n",
            "Requirement already satisfied: joblib>=1.2.0 in /usr/local/lib/python3.10/dist-packages (from scikit-surprise) (1.4.2)\n",
            "Requirement already satisfied: numpy>=1.19.5 in /usr/local/lib/python3.10/dist-packages (from scikit-surprise) (1.26.4)\n",
            "Requirement already satisfied: scipy>=1.6.0 in /usr/local/lib/python3.10/dist-packages (from scikit-surprise) (1.13.1)\n",
            "Building wheels for collected packages: scikit-surprise\n",
            "  Building wheel for scikit-surprise (pyproject.toml) ... \u001b[?25l\u001b[?25hdone\n",
            "  Created wheel for scikit-surprise: filename=scikit_surprise-1.1.4-cp310-cp310-linux_x86_64.whl size=2357278 sha256=d9084f1f1179cf2d3f8a068be19e3227fc566edd6d5890e3f63b7e48eac0a722\n",
            "  Stored in directory: /root/.cache/pip/wheels/4b/3f/df/6acbf0a40397d9bf3ff97f582cc22fb9ce66adde75bc71fd54\n",
            "Successfully built scikit-surprise\n",
            "Installing collected packages: scikit-surprise\n",
            "Successfully installed scikit-surprise-1.1.4\n",
            "Collecting annoy\n",
            "  Downloading annoy-1.17.3.tar.gz (647 kB)\n",
            "\u001b[2K     \u001b[90m━━━━━━━━━━━━━━━━━━━━━━━━━━━━━━━━━━━━━━━━\u001b[0m \u001b[32m647.5/647.5 kB\u001b[0m \u001b[31m28.9 MB/s\u001b[0m eta \u001b[36m0:00:00\u001b[0m\n",
            "\u001b[?25h  Preparing metadata (setup.py) ... \u001b[?25l\u001b[?25hdone\n",
            "Building wheels for collected packages: annoy\n",
            "  Building wheel for annoy (setup.py) ... \u001b[?25l\u001b[?25hdone\n",
            "  Created wheel for annoy: filename=annoy-1.17.3-cp310-cp310-linux_x86_64.whl size=552449 sha256=36ee18d40bf2b31860b26dd78bfa93e4829666d9cddfa91a2e780b494b4cb567\n",
            "  Stored in directory: /root/.cache/pip/wheels/64/8a/da/f714bcf46c5efdcfcac0559e63370c21abe961c48e3992465a\n",
            "Successfully built annoy\n",
            "Installing collected packages: annoy\n",
            "Successfully installed annoy-1.17.3\n"
          ]
        }
      ]
    },
    {
      "cell_type": "code",
      "execution_count": null,
      "metadata": {
        "id": "rcVxft1no9Pr",
        "outputId": "e1264a8e-aff1-4ef4-a2df-5cd0152ad75a",
        "colab": {
          "base_uri": "https://localhost:8080/"
        }
      },
      "outputs": [
        {
          "output_type": "stream",
          "name": "stdout",
          "text": [
            "Mounted at /content/drive\n"
          ]
        }
      ],
      "source": [
        "# Mount Google Drive\n",
        "from google.colab import drive\n",
        "drive.mount('/content/drive')"
      ]
    },
    {
      "cell_type": "code",
      "execution_count": null,
      "metadata": {
        "id": "1Y1W0LFio9Ps"
      },
      "outputs": [],
      "source": [
        "# ==================================================\n",
        "# Step 1: Load and Preprocess Data\n",
        "# ==================================================\n",
        "import pandas as pd\n",
        "import numpy as np\n",
        "from sklearn.preprocessing import LabelEncoder, MinMaxScaler\n",
        "import matplotlib.pyplot as plt\n",
        "import seaborn as sns\n",
        "\n",
        "# Load the training and testing datasets\n",
        "train_file_path = \"/content/drive/MyDrive/python/train.csv\"\n",
        "test_file_path = \"/content/drive/MyDrive/python/test.csv\"\n",
        "\n",
        "train_data = pd.read_csv(train_file_path, nrows=10000)  # Adjust nrows based on your memory\n",
        "test_data = pd.read_csv(test_file_path, nrows=10000)  # Adjust nrows based on your memory\n",
        "\n",
        "# Fill missing values (if any)\n",
        "train_data = train_data.fillna(0)\n",
        "test_data = test_data.fillna(0)\n"
      ]
    },
    {
      "cell_type": "code",
      "source": [
        "# ==================================================\n",
        "# Step 2: Analyze Click Distribution in Training Data\n",
        "# ==================================================\n",
        "# Calculate the click rate in the training data\n",
        "click_rate = train_data['click'].mean()\n",
        "print(f\"Click rate in training data: {click_rate:.2%}\")"
      ],
      "metadata": {
        "colab": {
          "base_uri": "https://localhost:8080/"
        },
        "id": "EjI24yzjKVEt",
        "outputId": "651b227f-6246-4db4-8594-b081c30a4339"
      },
      "execution_count": null,
      "outputs": [
        {
          "output_type": "stream",
          "name": "stdout",
          "text": [
            "Click rate in training data: 17.06%\n"
          ]
        }
      ]
    },
    {
      "cell_type": "code",
      "execution_count": null,
      "metadata": {
        "id": "ZNEbE2wxo9Pt",
        "colab": {
          "base_uri": "https://localhost:8080/",
          "height": 581
        },
        "outputId": "c86102a2-be9b-4549-b2c0-edcb9546399e"
      },
      "outputs": [
        {
          "output_type": "stream",
          "name": "stdout",
          "text": [
            "'click' column does not exist in the test data. Simulating click distribution based on training data.\n"
          ]
        },
        {
          "output_type": "display_data",
          "data": {
            "text/plain": [
              "<Figure size 800x600 with 1 Axes>"
            ],
            "image/png": "[encoded data removed]"
          },
          "metadata": {}
        }
      ],
      "source": [
        "# ==================================================\n",
        "# Step 3: Simulate Click Distribution in Test Data\n",
        "# ==================================================\n",
        "# Check if 'click' column exists in the test data\n",
        "if 'click' in test_data.columns:\n",
        "    print(\"'click' column exists in the test data.\")\n",
        "else:\n",
        "    print(\"'click' column does not exist in the test data. Simulating click distribution based on training data.\")\n",
        "\n",
        "    # Simulate clicks in the test data based on the click rate from the training data\n",
        "    test_data['click'] = np.random.choice([0, 1], size=len(test_data), p=[1 - click_rate, click_rate])\n",
        "\n",
        "    # Visualize the simulated click distribution in the test data\n",
        "    plt.figure(figsize=(8, 6))\n",
        "    sns.countplot(x='click', data=test_data)\n",
        "    plt.title('Simulated Distribution of Clicks in Test Data (0 = No Click, 1 = Click)')\n",
        "    plt.xlabel('Click')\n",
        "    plt.ylabel('Count')\n",
        "    plt.show()"
      ]
    },
    {
      "cell_type": "code",
      "execution_count": null,
      "metadata": {
        "id": "V3UWawyEo9Pt",
        "colab": {
          "base_uri": "https://localhost:8080/"
        },
        "outputId": "a77470b5-59f2-4a2f-bd4d-ec33ecb17d71"
      },
      "outputs": [
        {
          "output_type": "stream",
          "name": "stdout",
          "text": [
            "Training and testing data preprocessed and saved.\n"
          ]
        }
      ],
      "source": [
        "# ==================================================\n",
        "# Step 4: Preprocess the Data\n",
        "# ==================================================\n",
        "# Function to preprocess the data\n",
        "def preprocess_data(data):\n",
        "    # Convert 'hour' to datetime format\n",
        "    if 'hour' in data.columns:\n",
        "        data['hour'] = pd.to_datetime(data['hour'], format='%y%m%d%H')\n",
        "\n",
        "        # Extract day of the week and hour of the day\n",
        "        data['day_of_week'] = data['hour'].dt.dayofweek  # Monday=0, Sunday=6\n",
        "        data['hour_of_day'] = data['hour'].dt.hour\n",
        "\n",
        "        # Drop the original 'hour' column\n",
        "        data = data.drop(columns=['hour'])\n",
        "\n",
        "    # Label encoding for 'device_type'\n",
        "    if 'device_type' in data.columns:\n",
        "        label_encoder = LabelEncoder()\n",
        "        data['device_type'] = label_encoder.fit_transform(data['device_type'])\n",
        "\n",
        "    # One-hot encoding for 'site_category'\n",
        "    if 'site_category' in data.columns:\n",
        "        data = pd.get_dummies(data, columns=['site_category'], drop_first=True)\n",
        "\n",
        "    # Normalize numerical features\n",
        "    numerical_features = ['C14', 'C15', 'C16', 'C17', 'C18', 'C19', 'C20', 'C21']\n",
        "    for feature in numerical_features:\n",
        "        if feature in data.columns:\n",
        "            scaler = MinMaxScaler()\n",
        "            data[feature] = scaler.fit_transform(data[[feature]])\n",
        "\n",
        "    # Create unique IDs for users and ads\n",
        "    if 'device_ip' in data.columns:\n",
        "        data['user_id'] = data.groupby('device_ip').ngroup()  # Use 'device_ip' as a proxy for user_id\n",
        "    if 'id' in data.columns:\n",
        "        data['ad_id'] = data.groupby('id').ngroup()  # Use 'id' as a proxy for ad_id\n",
        "\n",
        "    # Drop unnecessary columns\n",
        "    columns_to_drop = ['device_ip', 'id']\n",
        "    for col in columns_to_drop:\n",
        "        if col in data.columns:\n",
        "            data = data.drop(columns=[col])\n",
        "\n",
        "    return data\n",
        "\n",
        "# Preprocess the training and testing data\n",
        "train_data = preprocess_data(train_data)\n",
        "test_data = preprocess_data(test_data)\n",
        "\n",
        "# Save the preprocessed datasets\n",
        "train_data.to_csv(\"/content/drive/MyDrive/python/train_preprocessed.csv\", index=False)\n",
        "test_data.to_csv(\"/content/drive/MyDrive/python/test_preprocessed.csv\", index=False)\n",
        "\n",
        "print(\"Training and testing data preprocessed and saved.\")\n"
      ]
    },
    {
      "cell_type": "code",
      "execution_count": null,
      "metadata": {
        "id": "7yDfjPDwo9Pt",
        "colab": {
          "base_uri": "https://localhost:8080/",
          "height": 1000
        },
        "outputId": "377a5e6d-ddc8-4b35-a1e8-73edbd894ec9"
      },
      "outputs": [
        {
          "output_type": "stream",
          "name": "stdout",
          "text": [
            "Model saved to /content/drive/MyDrive/python/collab_filtering_model.pkl\n",
            "Collaborative filtering scores matrix saved.\n",
            "RMSE: 0.3917\n",
            "MAE:  0.2856\n",
            "Collaborative Filtering RMSE: 0.39174010847822927\n",
            "Collaborative Filtering MAE: 0.28560602861676615\n",
            "AUC-ROC: 0.5006\n",
            "Log Loss: 0.8048\n",
            "Precision: 0.1429\n",
            "Recall: 0.0023\n",
            "F1-Score: 0.0046\n"
          ]
        },
        {
          "output_type": "display_data",
          "data": {
            "text/plain": [
              "<Figure size 800x600 with 1 Axes>"
            ],
            "image/png": "[encoded data removed]"
          },
          "metadata": {}
        },
        {
          "output_type": "display_data",
          "data": {
            "text/plain": [
              "<Figure size 800x600 with 1 Axes>"
            ],
            "image/png": "[encoded data removed]"
          },
          "metadata": {}
        }
      ],
      "source": [
        "# ==================================================\n",
        "# Step 5: Collaborative Filtering (CF)\n",
        "# ==================================================\n",
        "from surprise import SVD, Dataset, Reader\n",
        "from surprise import accuracy\n",
        "from sklearn.metrics import roc_auc_score, log_loss, roc_curve, precision_recall_curve, auc ,precision_score, recall_score, f1_score, accuracy_score\n",
        "import joblib\n",
        "\n",
        "# Prepare the training data for Collaborative Filtering\n",
        "if 'click' in train_data.columns:\n",
        "    train_collab_data = train_data[['user_id', 'ad_id', 'click']]\n",
        "    train_collab_data = train_collab_data.rename(columns={'click': 'rating'})\n",
        "\n",
        "    # Create a Surprise-compatible dataset\n",
        "    reader = Reader(rating_scale=(0, 1))  # Click (1) or no click (0)\n",
        "    train_data_surprise = Dataset.load_from_df(train_collab_data[['user_id', 'ad_id', 'rating']], reader)\n",
        "\n",
        "    # Build the full training set\n",
        "    trainset = train_data_surprise.build_full_trainset()\n",
        "\n",
        "    # Train the SVD model\n",
        "    model = SVD()\n",
        "    model.fit(trainset)\n",
        "\n",
        "    # Save the trained model\n",
        "    model_path = \"/content/drive/MyDrive/python/collab_filtering_model.pkl\"\n",
        "    joblib.dump(model, model_path)\n",
        "    print(f\"Model saved to {model_path}\")\n",
        "\n",
        "    # Prepare the testing data for Collaborative Filtering\n",
        "    if 'click' in test_data.columns:\n",
        "        test_collab_data = test_data[['user_id', 'ad_id', 'click']]\n",
        "        test_collab_data = test_collab_data.rename(columns={'click': 'rating'})\n",
        "\n",
        "        # Create a Surprise-compatible dataset for testing\n",
        "        test_data_surprise = Dataset.load_from_df(test_collab_data[['user_id', 'ad_id', 'rating']], reader)\n",
        "\n",
        "        # Build the test set\n",
        "        testset = test_data_surprise.build_full_trainset().build_testset()\n",
        "\n",
        "        # Generate predictions for the test set\n",
        "        predictions = model.test(testset)\n",
        "\n",
        "        # Extract predicted scores\n",
        "        collab_scores = [pred.est for pred in predictions]\n",
        "\n",
        "        # Create a DataFrame to store the predictions\n",
        "        predictions_df = pd.DataFrame({\n",
        "            'user_id': [pred.uid for pred in predictions],\n",
        "            'ad_id': [pred.iid for pred in predictions],\n",
        "            'predicted_score': collab_scores\n",
        "        })\n",
        "\n",
        "        # Pivot the DataFrame to create a user-ad matrix\n",
        "        collab_scores_matrix = predictions_df.pivot(index='user_id', columns='ad_id', values='predicted_score')\n",
        "\n",
        "        # Fill missing values with 0 (no interaction)\n",
        "        collab_scores_matrix = collab_scores_matrix.fillna(0)\n",
        "\n",
        "        # Save collab_scores_matrix to a file\n",
        "        np.save(\"/content/drive/MyDrive/python/collab_scores_matrix.npy\", collab_scores_matrix.values)\n",
        "        print(\"Collaborative filtering scores matrix saved.\")\n",
        "\n",
        "        # Evaluate the model using RMSE, MAE, AUC-ROC, and Log Loss , precision , recall , F1-score\n",
        "        rmse = accuracy.rmse(predictions)\n",
        "        mae = accuracy.mae(predictions)\n",
        "        print(f\"Collaborative Filtering RMSE: {rmse}\")\n",
        "        print(f\"Collaborative Filtering MAE: {mae}\")\n",
        "\n",
        "        y_true = [pred.r_ui for pred in predictions]\n",
        "        y_pred = [pred.est for pred in predictions]\n",
        "\n",
        "        auc_roc = roc_auc_score(y_true, y_pred)\n",
        "        logloss = log_loss(y_true, y_pred)\n",
        "        print(f\"AUC-ROC: {auc_roc:.4f}\")\n",
        "        print(f\"Log Loss: {logloss:.4f}\")\n",
        "\n",
        "        y_pred_binary = [1 if pred >= 0.5 else 0 for pred in y_pred]\n",
        "        precision = precision_score(y_true, y_pred_binary)\n",
        "        recall = recall_score(y_true, y_pred_binary)\n",
        "        f1 = f1_score(y_true, y_pred_binary)\n",
        "\n",
        "        print(f\"Precision: {precision:.4f}\")\n",
        "        print(f\"Recall: {recall:.4f}\")\n",
        "        print(f\"F1-Score: {f1:.4f}\")\n",
        "\n",
        "        # ======================================================\n",
        "        # Step 6: Visualize ROC Curve and Precision-Recall Curve\n",
        "        # ======================================================\n",
        "        # ROC Curve\n",
        "        fpr, tpr, _ = roc_curve(y_true, y_pred)\n",
        "        plt.figure(figsize=(8, 6))\n",
        "        plt.plot(fpr, tpr, label=f'AUC = {auc_roc:.4f}')\n",
        "        plt.title('ROC Curve')\n",
        "        plt.xlabel('False Positive Rate')\n",
        "        plt.ylabel('True Positive Rate')\n",
        "        plt.legend()\n",
        "        plt.show()\n",
        "\n",
        "        # Precision-Recall Curve\n",
        "        precision, recall, _ = precision_recall_curve(y_true, y_pred)\n",
        "        pr_auc = auc(recall, precision)\n",
        "        plt.figure(figsize=(8, 6))\n",
        "        plt.plot(recall, precision, label=f'PR AUC = {pr_auc:.4f}')\n",
        "        plt.title('Precision-Recall Curve')\n",
        "        plt.xlabel('Recall')\n",
        "        plt.ylabel('Precision')\n",
        "        plt.legend()\n",
        "        plt.show()\n",
        "    else:\n",
        "        print(\"'click' column not found in test data. Skipping evaluation.\")\n",
        "else:\n",
        "    print(\"'click' column not found in training data. Skipping Collaborative Filtering.\")"
      ]
    },
    {
      "cell_type": "code",
      "execution_count": null,
      "metadata": {
        "id": "jHf-hIc7o9Pt",
        "outputId": "9165c48d-3603-48b0-b542-4c9cc23856c5",
        "colab": {
          "base_uri": "https://localhost:8080/"
        }
      },
      "outputs": [
        {
          "output_type": "stream",
          "name": "stdout",
          "text": [
            "\n",
            "Top 10 Content-Based Filtering Recommendations:\n",
            "Top 10 recommendations for candidate 0: [1, 2, 3, 8, 11, 15, 17, 18, 21, 23]\n"
          ]
        }
      ],
      "source": [
        "# ==================================================\n",
        "# Step 6: Content-Based Filtering (CB)\n",
        "# ==================================================\n",
        "from sklearn.feature_extraction.text import TfidfVectorizer\n",
        "from sklearn.metrics.pairwise import cosine_similarity\n",
        "\n",
        "# Combine candidate and ad features into a single text feature\n",
        "train_data['combined_features'] = (\n",
        "    train_data['device_type'].astype(str) + \" \" +\n",
        "    train_data['site_category_28905ebd'].astype(str) + \" \" +\n",
        "    train_data['app_category'].astype(str) + \" \" +\n",
        "    train_data['banner_pos'].astype(str)\n",
        ")\n",
        "\n",
        "# Create TF-IDF vectors\n",
        "tfidf = TfidfVectorizer()\n",
        "tfidf_matrix = tfidf.fit_transform(train_data['combined_features'])\n",
        "\n",
        "# Compute cosine similarity between candidate profiles and ad features\n",
        "cosine_sim = cosine_similarity(tfidf_matrix, tfidf_matrix)\n",
        "\n",
        "# Function to get top N recommendations based on cosine similarity\n",
        "def get_top_recommendations(cosine_sim, candidate_index, top_n=10):\n",
        "    sim_scores = list(enumerate(cosine_sim[candidate_index]))\n",
        "    sim_scores = sorted(sim_scores, key=lambda x: x[1], reverse=True)\n",
        "    top_recommendations = [i for i, _ in sim_scores[1:top_n+1]]\n",
        "    return top_recommendations\n",
        "\n",
        "# Generate recommendations for the first candidate\n",
        "candidate_index = 0\n",
        "top_recommendations = get_top_recommendations(cosine_sim, candidate_index, top_n=10)\n",
        "\n",
        "# Display the top recommendations\n",
        "print(\"\\nTop 10 Content-Based Filtering Recommendations:\")\n",
        "print(f\"Top 10 recommendations for candidate {candidate_index}: {top_recommendations}\")"
      ]
    },
    {
      "cell_type": "code",
      "source": [
        "# ==================================================\n",
        "# Step 7: Hybrid Model (CF + CB)\n",
        "# ==================================================\n",
        "# Load collab_scores from the file\n",
        "collab_scores = np.load(\"/content/drive/MyDrive/python/collab_scores_matrix.npy\")\n",
        "\n",
        "# Define weights for content-based and collaborative filtering\n",
        "content_weight = 0.7\n",
        "collab_weight = 0.3\n",
        "\n",
        "# Get the common users between cosine_sim and collab_scores\n",
        "common_users = collab_scores_matrix.index.intersection(range(cosine_sim.shape[0]))\n",
        "\n",
        "# Filter cosine_sim and collab_scores to include only common users\n",
        "filtered_cosine_sim = cosine_sim[common_users, :]\n",
        "filtered_collab_scores = collab_scores[common_users.get_indexer(common_users), :] #Adjust collab_scores to the index\n",
        "\n",
        "# Combine scores using a weighted average for common users\n",
        "hybrid_scores = (content_weight * filtered_cosine_sim) + (collab_weight * filtered_collab_scores)\n",
        "\n",
        "# Generate recommendations using the hybrid scores for common users\n",
        "# Change here: Use len(hybrid_scores) instead of len(train_data)\n",
        "top_hybrid_recommendations = get_top_recommendations(hybrid_scores, candidate_index, top_n=10)\n",
        "print(\"\\nTop 10 Hybrid Recommendations:\")\n",
        "print(f\"Top 10 hybrid recommendations for candidate {candidate_index}: {top_hybrid_recommendations}\")\n",
        "\n",
        "# Save hybrid recommendations to a CSV file\n",
        "# Change here: Use len(hybrid_scores) instead of len(train_data)\n",
        "hybrid_recommendations_df = pd.DataFrame({\n",
        "    'candidate_index': range(len(hybrid_scores)),\n",
        "    'top_hybrid_recommendations': [get_top_recommendations(hybrid_scores, i, top_n=10) for i in range(len(hybrid_scores))]\n",
        "})\n",
        "\n",
        "hybrid_recommendations_df.to_csv(\"/content/drive/MyDrive/python/hybrid_recommendations.csv\", index=False)\n",
        "print(\"Hybrid recommendations saved.\")"
      ],
      "metadata": {
        "colab": {
          "base_uri": "https://localhost:8080/"
        },
        "id": "d4buR0XKInzb",
        "outputId": "ee079f45-ae04-4eff-e2ae-d2902c9f1afa"
      },
      "execution_count": null,
      "outputs": [
        {
          "output_type": "stream",
          "name": "stdout",
          "text": [
            "\n",
            "Top 10 Hybrid Recommendations:\n",
            "Top 10 hybrid recommendations for candidate 0: [0, 1, 2, 3, 8, 11, 15, 17, 18, 21]\n",
            "Hybrid recommendations saved.\n"
          ]
        }
      ]
    },
    {
      "cell_type": "code",
      "source": [
        "!pip install streamlit"
      ],
      "metadata": {
        "colab": {
          "base_uri": "https://localhost:8080/"
        },
        "id": "7NC35VluPAyr",
        "outputId": "031af014-efc9-42a6-c7ab-028b27dbe200"
      },
      "execution_count": null,
      "outputs": [
        {
          "output_type": "stream",
          "name": "stdout",
          "text": [
            "Collecting streamlit\n",
            "  Downloading streamlit-1.41.1-py2.py3-none-any.whl.metadata (8.5 kB)\n",
            "Requirement already satisfied: altair<6,>=4.0 in /usr/local/lib/python3.10/dist-packages (from streamlit) (5.5.0)\n",
            "Requirement already satisfied: blinker<2,>=1.0.0 in /usr/local/lib/python3.10/dist-packages (from streamlit) (1.9.0)\n",
            "Requirement already satisfied: cachetools<6,>=4.0 in /usr/local/lib/python3.10/dist-packages (from streamlit) (5.5.0)\n",
            "Requirement already satisfied: click<9,>=7.0 in /usr/local/lib/python3.10/dist-packages (from streamlit) (8.1.8)\n",
            "Requirement already satisfied: numpy<3,>=1.23 in /usr/local/lib/python3.10/dist-packages (from streamlit) (1.26.4)\n",
            "Requirement already satisfied: packaging<25,>=20 in /usr/local/lib/python3.10/dist-packages (from streamlit) (24.2)\n",
            "Requirement already satisfied: pandas<3,>=1.4.0 in /usr/local/lib/python3.10/dist-packages (from streamlit) (2.2.2)\n",
            "Requirement already satisfied: pillow<12,>=7.1.0 in /usr/local/lib/python3.10/dist-packages (from streamlit) (11.1.0)\n",
            "Requirement already satisfied: protobuf<6,>=3.20 in /usr/local/lib/python3.10/dist-packages (from streamlit) (4.25.5)\n",
            "Requirement already satisfied: pyarrow>=7.0 in /usr/local/lib/python3.10/dist-packages (from streamlit) (17.0.0)\n",
            "Requirement already satisfied: requests<3,>=2.27 in /usr/local/lib/python3.10/dist-packages (from streamlit) (2.32.3)\n",
            "Requirement already satisfied: rich<14,>=10.14.0 in /usr/local/lib/python3.10/dist-packages (from streamlit) (13.9.4)\n",
            "Requirement already satisfied: tenacity<10,>=8.1.0 in /usr/local/lib/python3.10/dist-packages (from streamlit) (9.0.0)\n",
            "Requirement already satisfied: toml<2,>=0.10.1 in /usr/local/lib/python3.10/dist-packages (from streamlit) (0.10.2)\n",
            "Requirement already satisfied: typing-extensions<5,>=4.3.0 in /usr/local/lib/python3.10/dist-packages (from streamlit) (4.12.2)\n",
            "Collecting watchdog<7,>=2.1.5 (from streamlit)\n",
            "  Downloading watchdog-6.0.0-py3-none-manylinux2014_x86_64.whl.metadata (44 kB)\n",
            "\u001b[2K     \u001b[90m━━━━━━━━━━━━━━━━━━━━━━━━━━━━━━━━━━━━━━━━\u001b[0m \u001b[32m44.3/44.3 kB\u001b[0m \u001b[31m3.1 MB/s\u001b[0m eta \u001b[36m0:00:00\u001b[0m\n",
            "\u001b[?25hRequirement already satisfied: gitpython!=3.1.19,<4,>=3.0.7 in /usr/local/lib/python3.10/dist-packages (from streamlit) (3.1.44)\n",
            "Collecting pydeck<1,>=0.8.0b4 (from streamlit)\n",
            "  Downloading pydeck-0.9.1-py2.py3-none-any.whl.metadata (4.1 kB)\n",
            "Requirement already satisfied: tornado<7,>=6.0.3 in /usr/local/lib/python3.10/dist-packages (from streamlit) (6.3.3)\n",
            "Requirement already satisfied: jinja2 in /usr/local/lib/python3.10/dist-packages (from altair<6,>=4.0->streamlit) (3.1.5)\n",
            "Requirement already satisfied: jsonschema>=3.0 in /usr/local/lib/python3.10/dist-packages (from altair<6,>=4.0->streamlit) (4.23.0)\n",
            "Requirement already satisfied: narwhals>=1.14.2 in /usr/local/lib/python3.10/dist-packages (from altair<6,>=4.0->streamlit) (1.21.1)\n",
            "Requirement already satisfied: gitdb<5,>=4.0.1 in /usr/local/lib/python3.10/dist-packages (from gitpython!=3.1.19,<4,>=3.0.7->streamlit) (4.0.12)\n",
            "Requirement already satisfied: python-dateutil>=2.8.2 in /usr/local/lib/python3.10/dist-packages (from pandas<3,>=1.4.0->streamlit) (2.8.2)\n",
            "Requirement already satisfied: pytz>=2020.1 in /usr/local/lib/python3.10/dist-packages (from pandas<3,>=1.4.0->streamlit) (2024.2)\n",
            "Requirement already satisfied: tzdata>=2022.7 in /usr/local/lib/python3.10/dist-packages (from pandas<3,>=1.4.0->streamlit) (2024.2)\n",
            "Requirement already satisfied: charset-normalizer<4,>=2 in /usr/local/lib/python3.10/dist-packages (from requests<3,>=2.27->streamlit) (3.4.1)\n",
            "Requirement already satisfied: idna<4,>=2.5 in /usr/local/lib/python3.10/dist-packages (from requests<3,>=2.27->streamlit) (3.10)\n",
            "Requirement already satisfied: urllib3<3,>=1.21.1 in /usr/local/lib/python3.10/dist-packages (from requests<3,>=2.27->streamlit) (2.3.0)\n",
            "Requirement already satisfied: certifi>=2017.4.17 in /usr/local/lib/python3.10/dist-packages (from requests<3,>=2.27->streamlit) (2024.12.14)\n",
            "Requirement already satisfied: markdown-it-py>=2.2.0 in /usr/local/lib/python3.10/dist-packages (from rich<14,>=10.14.0->streamlit) (3.0.0)\n",
            "Requirement already satisfied: pygments<3.0.0,>=2.13.0 in /usr/local/lib/python3.10/dist-packages (from rich<14,>=10.14.0->streamlit) (2.18.0)\n",
            "Requirement already satisfied: smmap<6,>=3.0.1 in /usr/local/lib/python3.10/dist-packages (from gitdb<5,>=4.0.1->gitpython!=3.1.19,<4,>=3.0.7->streamlit) (5.0.2)\n",
            "Requirement already satisfied: MarkupSafe>=2.0 in /usr/local/lib/python3.10/dist-packages (from jinja2->altair<6,>=4.0->streamlit) (3.0.2)\n",
            "Requirement already satisfied: attrs>=22.2.0 in /usr/local/lib/python3.10/dist-packages (from jsonschema>=3.0->altair<6,>=4.0->streamlit) (24.3.0)\n",
            "Requirement already satisfied: jsonschema-specifications>=2023.03.6 in /usr/local/lib/python3.10/dist-packages (from jsonschema>=3.0->altair<6,>=4.0->streamlit) (2024.10.1)\n",
            "Requirement already satisfied: referencing>=0.28.4 in /usr/local/lib/python3.10/dist-packages (from jsonschema>=3.0->altair<6,>=4.0->streamlit) (0.35.1)\n",
            "Requirement already satisfied: rpds-py>=0.7.1 in /usr/local/lib/python3.10/dist-packages (from jsonschema>=3.0->altair<6,>=4.0->streamlit) (0.22.3)\n",
            "Requirement already satisfied: mdurl~=0.1 in /usr/local/lib/python3.10/dist-packages (from markdown-it-py>=2.2.0->rich<14,>=10.14.0->streamlit) (0.1.2)\n",
            "Requirement already satisfied: six>=1.5 in /usr/local/lib/python3.10/dist-packages (from python-dateutil>=2.8.2->pandas<3,>=1.4.0->streamlit) (1.17.0)\n",
            "Downloading streamlit-1.41.1-py2.py3-none-any.whl (9.1 MB)\n",
            "\u001b[2K   \u001b[90m━━━━━━━━━━━━━━━━━━━━━━━━━━━━━━━━━━━━━━━━\u001b[0m \u001b[32m9.1/9.1 MB\u001b[0m \u001b[31m63.8 MB/s\u001b[0m eta \u001b[36m0:00:00\u001b[0m\n",
            "\u001b[?25hDownloading pydeck-0.9.1-py2.py3-none-any.whl (6.9 MB)\n",
            "\u001b[2K   \u001b[90m━━━━━━━━━━━━━━━━━━━━━━━━━━━━━━━━━━━━━━━━\u001b[0m \u001b[32m6.9/6.9 MB\u001b[0m \u001b[31m54.3 MB/s\u001b[0m eta \u001b[36m0:00:00\u001b[0m\n",
            "\u001b[?25hDownloading watchdog-6.0.0-py3-none-manylinux2014_x86_64.whl (79 kB)\n",
            "\u001b[2K   \u001b[90m━━━━━━━━━━━━━━━━━━━━━━━━━━━━━━━━━━━━━━━━\u001b[0m \u001b[32m79.1/79.1 kB\u001b[0m \u001b[31m6.2 MB/s\u001b[0m eta \u001b[36m0:00:00\u001b[0m\n",
            "\u001b[?25hInstalling collected packages: watchdog, pydeck, streamlit\n",
            "Successfully installed pydeck-0.9.1 streamlit-1.41.1 watchdog-6.0.0\n"
          ]
        }
      ]
    },
    {
      "cell_type": "code",
      "source": [
        "# ==================================================\n",
        "# Step 8: User Interface (UI) with Streamlit\n",
        "# ==================================================\n",
        "import streamlit as st\n",
        "\n",
        "def main():\n",
        "    st.title(\"Candidate Advertisement List Recommendation Engine\")\n",
        "    st.write(\"This system provides personalized ad recommendations using a hybrid approach (Collaborative Filtering + Content-Based Filtering).\")\n",
        "\n",
        "    # Load the trained model and data\n",
        "    model = joblib.load(\"/content/drive/MyDrive/python/collab_filtering_model.pkl\")\n",
        "    collab_scores = np.load(\"/content/drive/MyDrive/python/collab_scores_matrix.npy\")\n",
        "    cosine_sim = cosine_similarity(tfidf_matrix, tfidf_matrix)\n",
        "\n",
        "    # User input\n",
        "    user_id = st.number_input(\"Enter User ID:\", min_value=0, max_value=len(train_data) - 1, value=0)\n",
        "    top_n = st.number_input(\"Number of Recommendations:\", min_value=1, max_value=20, value=10)\n",
        "\n",
        "    # Generate recommendations\n",
        "    if st.button(\"Get Recommendations\"):\n",
        "        # Collaborative Filtering Scores\n",
        "        cf_scores = collab_scores[user_id, :]\n",
        "\n",
        "        # Content-Based Filtering Scores\n",
        "        cb_scores = cosine_sim[user_id, :]\n",
        "\n",
        "        # Hybrid Scores\n",
        "        hybrid_scores = (content_weight * cb_scores) + (collab_weight * cf_scores)\n",
        "\n",
        "        # Get top N recommendations\n",
        "        top_recommendations = np.argsort(hybrid_scores)[-top_n:][::-1]\n",
        "\n",
        "        # Display recommendations\n",
        "        st.write(f\"Top {top_n} Recommendations for User {user_id}:\")\n",
        "        for i, ad_id in enumerate(top_recommendations):\n",
        "            st.write(f\"{i + 1}. Ad ID: {ad_id}, Score: {hybrid_scores[ad_id]:.4f}\")\n",
        "\n",
        "if __name__ == \"__main__\":\n",
        "    main()"
      ],
      "metadata": {
        "id": "tI0MAbWhPFCm"
      },
      "execution_count": null,
      "outputs": []
    }
  ],
  "metadata": {
    "kernelspec": {
      "display_name": "Python 3",
      "language": "python",
      "name": "python3"
    },
    "language_info": {
      "codemirror_mode": {
        "name": "ipython",
        "version": 3
      },
      "file_extension": ".py",
      "mimetype": "text/x-python",
      "name": "python",
      "nbconvert_exporter": "python",
      "pygments_lexer": "ipython3",
      "version": "3.11.1"
    },
    "colab": {
      "provenance": []
    }
  },
  "nbformat": 4,
  "nbformat_minor": 0
}